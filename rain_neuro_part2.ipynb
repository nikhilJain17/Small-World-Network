{
 "cells": [
  {
   "cell_type": "code",
   "execution_count": 4,
   "metadata": {},
   "outputs": [],
   "source": [
    "import tkinter\n",
    "import random"
   ]
  },
  {
   "cell_type": "code",
   "execution_count": 65,
   "metadata": {},
   "outputs": [],
   "source": [
    "# generate one wire according to section 2.1 of paper\n",
    "# returns list of [p1, p2] where p1 and p2 are tuples\n",
    "def generate_wire(l):\n",
    "    \n",
    "    # q1 and q2 are distinct values of random var Q\n",
    "    # Q is discrete cont. random var over [0,3]\n",
    "    # the purpose of q1 and q2 is to \"anchor\" a wire's endpoints \n",
    "    # to distinct sides of the simulation\n",
    "    q1 = -1\n",
    "    q2 = -1\n",
    "    \n",
    "    while q1 == q2:\n",
    "        q1 = random.randint(0,3)\n",
    "        q2 = random.randint(0,3)\n",
    "        \n",
    "    print(\"Q values: \", q1, q2)\n",
    "    \n",
    "    # x1, y1, x2, y2 are the endpoints of the wire\n",
    "    # they are from uniform rand var T over [0, l]\n",
    "    x1 = random.uniform(0, l)\n",
    "    x2 = random.uniform(0, l)\n",
    "    y1 = random.uniform(0, l)\n",
    "    y2 = random.uniform(0, l)\n",
    "    \n",
    "    print(\"Initial endpoints:\", x1, y1, x2, y2)\n",
    "    \n",
    "    # apply the adjustment table to q1, q2 to anchor endpoints\n",
    "    # @TODO clean this code up\n",
    "    if q1 == 0:\n",
    "        y1 = 0\n",
    "    elif q1 == 1:\n",
    "        x1 = 0\n",
    "    elif q1 == 2:\n",
    "        y1 = l\n",
    "    elif q1 == 3:\n",
    "        x1 = l\n",
    "        \n",
    "    # handle q2\n",
    "    if q2 == 0:\n",
    "        y1 = 0\n",
    "    elif q2 == 1:\n",
    "        x1 = 0\n",
    "    elif q2 == 2:\n",
    "        y1 = l\n",
    "    elif q2 == 3:\n",
    "        x1 = l\n",
    "        \n",
    "    p1 = (x1, y1)\n",
    "    p2 = x\n",
    "    \n",
    "            \n",
    "\n",
    "    "
   ]
  },
  {
   "cell_type": "code",
   "execution_count": 66,
   "metadata": {},
   "outputs": [
    {
     "name": "stdout",
     "output_type": "stream",
     "text": [
      "Q values:  0 1\n",
      "Initial endpoints: 0.9518039233040794 2.1029902314756073 2.752184060014717 2.7924495237066456\n"
     ]
    }
   ],
   "source": [
    "# cell for testing\n",
    "generate_wire(l=3)"
   ]
  },
  {
   "cell_type": "code",
   "execution_count": null,
   "metadata": {},
   "outputs": [],
   "source": [
    "# main function to run simulation\n",
    "def main(a, r_e, n_e, lambda_constant):"
   ]
  }
 ],
 "metadata": {
  "kernelspec": {
   "display_name": "Python 3",
   "language": "python",
   "name": "python3"
  },
  "language_info": {
   "codemirror_mode": {
    "name": "ipython",
    "version": 3
   },
   "file_extension": ".py",
   "mimetype": "text/x-python",
   "name": "python",
   "nbconvert_exporter": "python",
   "pygments_lexer": "ipython3",
   "version": "3.6.5"
  }
 },
 "nbformat": 4,
 "nbformat_minor": 2
}
