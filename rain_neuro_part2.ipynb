{
 "cells": [
  {
   "cell_type": "code",
   "execution_count": 95,
   "metadata": {},
   "outputs": [],
   "source": [
    "import tkinter\n",
    "import random\n",
    "from math import sqrt"
   ]
  },
  {
   "cell_type": "code",
   "execution_count": 105,
   "metadata": {},
   "outputs": [],
   "source": [
    "# generate one wire according to section 2.1 of paper\n",
    "# returns list of [p1, p2] where p1 and p2 are tuples\n",
    "def generate_wire(l):\n",
    "    \n",
    "    # q1 and q2 are distinct values of random var Q\n",
    "    # Q is discrete cont. random var over [0,3]\n",
    "    # the purpose of q1 and q2 is to \"anchor\" a wire's endpoints \n",
    "    # to distinct sides of the simulation\n",
    "    q1 = -1\n",
    "    q2 = -1\n",
    "    \n",
    "    while q1 == q2:\n",
    "        q1 = random.randint(0,3)\n",
    "        q2 = random.randint(0,3)\n",
    "        \n",
    "#     print(\"Q values: \", q1, q2)\n",
    "    \n",
    "    # x1, y1, x2, y2 are the endpoints of the wire\n",
    "    # they are from uniform rand var T over [0, l]\n",
    "    x1 = random.uniform(0, l)\n",
    "    x2 = random.uniform(0, l)\n",
    "    y1 = random.uniform(0, l)\n",
    "    y2 = random.uniform(0, l)\n",
    "    \n",
    "#     print(\"Initial endpoints:\", x1, y1, x2, y2)\n",
    "    \n",
    "    # apply the adjustment table to q1, q2 to anchor endpoints\n",
    "    # @TODO clean this code up\n",
    "    if q1 == 0:\n",
    "        y1 = 0\n",
    "    elif q1 == 1:\n",
    "        x1 = 0\n",
    "    elif q1 == 2:\n",
    "        y1 = l\n",
    "    elif q1 == 3:\n",
    "        x1 = l\n",
    "        \n",
    "    # handle q2\n",
    "    if q2 == 0:\n",
    "        y2 = 0\n",
    "    elif q2 == 1:\n",
    "        x2 = 0\n",
    "    elif q2 == 2:\n",
    "        y2 = l\n",
    "    elif q2 == 3:\n",
    "        x2 = l\n",
    "        \n",
    "    p1 = (x1, y1)\n",
    "    p2 = (x2, y2)\n",
    "    \n",
    "#     print(\"P1:\", p1)\n",
    "#     print(\"P2:\", p2)\n",
    "    \n",
    "    return[p1, p2]\n",
    "    \n",
    "            \n",
    "\n",
    "    "
   ]
  },
  {
   "cell_type": "code",
   "execution_count": 112,
   "metadata": {},
   "outputs": [],
   "source": [
    "# determine if an electrode is touching a wire\n",
    "# takes in tuple of coordinates of electrode\n",
    "# takes in list of tuples of endpoints of wire\n",
    "def electrode_touching_wire(electrode_points, wire_points, r_e):\n",
    "    # the formula for min distance between wire and electrode is given in sec 2.1\n",
    "    \n",
    "    x_e, y_e = electrode_points\n",
    "    x1, y1 = wire_points[0]\n",
    "    x2, y2 = wire_points[1]\n",
    "    \n",
    "    numerator = abs(x_e * (y2 - y1) - y_e * (x2 - x1) + x2 * y1 - y2 * x1)\n",
    "    denominator = sqrt((x2 - x1)**2 + (y2 - y1)**2)\n",
    "    \n",
    "    distance = numerator / denominator\n",
    "    \n",
    "    # wire is touching if min distance is less than electrode radius\n",
    "    return distance <= r_e"
   ]
  },
  {
   "cell_type": "code",
   "execution_count": 127,
   "metadata": {},
   "outputs": [],
   "source": [
    "# main function to run simulation\n",
    "def main(a=1, r_e=0.4, n_e=9, lambda_constant=30):\n",
    "    \n",
    "    # delete???\n",
    "    r_e = r_e\n",
    "    \n",
    "    # height/width of grid\n",
    "    l = a * (1 + sqrt(n_e)) \n",
    "    \n",
    "    # number of wires\n",
    "    n_w = int(lambda_constant * sqrt(n_e))\n",
    "    \n",
    "    # generate wire coordinates\n",
    "    wires = []\n",
    "    for i in range(n_w):\n",
    "        wires.append(generate_wire(l))\n",
    "        \n",
    "    # generate electrode coordinates\n",
    "    # they are evenly spaced out along the lxl grid\n",
    "    electrodes = []\n",
    "    for i in range(int(sqrt(n_e))):\n",
    "        for j in range(int(sqrt(n_e))):\n",
    "            x = i * (l / n_e)\n",
    "            y = j * (l / n_e)\n",
    "            electrodes.append((x, y))\n",
    "        \n",
    "    # generate dictionaries of electrodes and the wires they touch\n",
    "    electrode_wire_dict = {}\n",
    "    \n",
    "    for electrode in electrodes:\n",
    "        for wire in wires:\n",
    "            wires_touching = []\n",
    "            if electrode_touching_wire(electrode, wire, r_e):\n",
    "                wires_touching.append(wire)\n",
    "            electrode_wire_dict[electrode] = wires_touching\n",
    "    \n",
    "    print(electrode_wire_dict)"
   ]
  },
  {
   "cell_type": "code",
   "execution_count": 128,
   "metadata": {},
   "outputs": [
    {
     "ename": "NameError",
     "evalue": "name 'r_e' is not defined",
     "output_type": "error",
     "traceback": [
      "\u001b[0;31m---------------------------------------------------------------------------\u001b[0m",
      "\u001b[0;31mNameError\u001b[0m                                 Traceback (most recent call last)",
      "\u001b[0;32m<ipython-input-128-17287131be3a>\u001b[0m in \u001b[0;36m<module>\u001b[0;34m()\u001b[0m\n\u001b[1;32m      1\u001b[0m \u001b[0;31m# cell for testing\u001b[0m\u001b[0;34m\u001b[0m\u001b[0;34m\u001b[0m\u001b[0m\n\u001b[0;32m----> 2\u001b[0;31m \u001b[0mmain\u001b[0m\u001b[0;34m(\u001b[0m\u001b[0;34m)\u001b[0m\u001b[0;34m\u001b[0m\u001b[0m\n\u001b[0m",
      "\u001b[0;32m<ipython-input-127-a52833e354a5>\u001b[0m in \u001b[0;36mmain\u001b[0;34m(a, r_e, n_e, lambda_constant)\u001b[0m\n\u001b[1;32m     31\u001b[0m         \u001b[0;32mfor\u001b[0m \u001b[0mwire\u001b[0m \u001b[0;32min\u001b[0m \u001b[0mwires\u001b[0m\u001b[0;34m:\u001b[0m\u001b[0;34m\u001b[0m\u001b[0m\n\u001b[1;32m     32\u001b[0m             \u001b[0mwires_touching\u001b[0m \u001b[0;34m=\u001b[0m \u001b[0;34m[\u001b[0m\u001b[0;34m]\u001b[0m\u001b[0;34m\u001b[0m\u001b[0m\n\u001b[0;32m---> 33\u001b[0;31m             \u001b[0;32mif\u001b[0m \u001b[0melectrode_touching_wire\u001b[0m\u001b[0;34m(\u001b[0m\u001b[0melectrode\u001b[0m\u001b[0;34m,\u001b[0m \u001b[0mwire\u001b[0m\u001b[0;34m,\u001b[0m \u001b[0mr_e\u001b[0m\u001b[0;34m)\u001b[0m\u001b[0;34m:\u001b[0m\u001b[0;34m\u001b[0m\u001b[0m\n\u001b[0m\u001b[1;32m     34\u001b[0m                 \u001b[0mwires_touching\u001b[0m\u001b[0;34m.\u001b[0m\u001b[0mappend\u001b[0m\u001b[0;34m(\u001b[0m\u001b[0mwire\u001b[0m\u001b[0;34m)\u001b[0m\u001b[0;34m\u001b[0m\u001b[0m\n\u001b[1;32m     35\u001b[0m             \u001b[0melectrode_wire_dict\u001b[0m\u001b[0;34m[\u001b[0m\u001b[0melectrode\u001b[0m\u001b[0;34m]\u001b[0m \u001b[0;34m=\u001b[0m \u001b[0mwires_touching\u001b[0m\u001b[0;34m\u001b[0m\u001b[0m\n",
      "\u001b[0;32m<ipython-input-112-ddeedb434238>\u001b[0m in \u001b[0;36melectrode_touching_wire\u001b[0;34m(electrode_points, wire_points, r_e_)\u001b[0m\n\u001b[1;32m     15\u001b[0m \u001b[0;34m\u001b[0m\u001b[0m\n\u001b[1;32m     16\u001b[0m     \u001b[0;31m# wire is touching if min distance is less than electrode radius\u001b[0m\u001b[0;34m\u001b[0m\u001b[0;34m\u001b[0m\u001b[0m\n\u001b[0;32m---> 17\u001b[0;31m     \u001b[0;32mreturn\u001b[0m \u001b[0mdistance\u001b[0m \u001b[0;34m<=\u001b[0m \u001b[0mr_e\u001b[0m\u001b[0;34m\u001b[0m\u001b[0m\n\u001b[0m",
      "\u001b[0;31mNameError\u001b[0m: name 'r_e' is not defined"
     ]
    }
   ],
   "source": [
    "# cell for testing\n",
    "main()"
   ]
  },
  {
   "cell_type": "code",
   "execution_count": null,
   "metadata": {},
   "outputs": [],
   "source": []
  }
 ],
 "metadata": {
  "kernelspec": {
   "display_name": "Python 3",
   "language": "python",
   "name": "python3"
  },
  "language_info": {
   "codemirror_mode": {
    "name": "ipython",
    "version": 3
   },
   "file_extension": ".py",
   "mimetype": "text/x-python",
   "name": "python",
   "nbconvert_exporter": "python",
   "pygments_lexer": "ipython3",
   "version": "3.6.5"
  }
 },
 "nbformat": 4,
 "nbformat_minor": 2
}
