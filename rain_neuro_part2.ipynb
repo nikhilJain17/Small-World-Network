{
 "cells": [
  {
   "cell_type": "code",
   "execution_count": 95,
   "metadata": {},
   "outputs": [],
   "source": [
    "import tkinter\n",
    "import random\n",
    "from math import sqrt"
   ]
  },
  {
   "cell_type": "code",
   "execution_count": 105,
   "metadata": {},
   "outputs": [],
   "source": [
    "# generate one wire according to section 2.1 of paper\n",
    "# returns list of [p1, p2] where p1 and p2 are tuples\n",
    "def generate_wire(l):\n",
    "    \n",
    "    # q1 and q2 are distinct values of random var Q\n",
    "    # Q is discrete cont. random var over [0,3]\n",
    "    # the purpose of q1 and q2 is to \"anchor\" a wire's endpoints \n",
    "    # to distinct sides of the simulation\n",
    "    q1 = -1\n",
    "    q2 = -1\n",
    "    \n",
    "    while q1 == q2:\n",
    "        q1 = random.randint(0,3)\n",
    "        q2 = random.randint(0,3)\n",
    "        \n",
    "#     print(\"Q values: \", q1, q2)\n",
    "    \n",
    "    # x1, y1, x2, y2 are the endpoints of the wire\n",
    "    # they are from uniform rand var T over [0, l]\n",
    "    x1 = random.uniform(0, l)\n",
    "    x2 = random.uniform(0, l)\n",
    "    y1 = random.uniform(0, l)\n",
    "    y2 = random.uniform(0, l)\n",
    "    \n",
    "#     print(\"Initial endpoints:\", x1, y1, x2, y2)\n",
    "    \n",
    "    # apply the adjustment table to q1, q2 to anchor endpoints\n",
    "    # @TODO clean this code up\n",
    "    if q1 == 0:\n",
    "        y1 = 0\n",
    "    elif q1 == 1:\n",
    "        x1 = 0\n",
    "    elif q1 == 2:\n",
    "        y1 = l\n",
    "    elif q1 == 3:\n",
    "        x1 = l\n",
    "        \n",
    "    # handle q2\n",
    "    if q2 == 0:\n",
    "        y2 = 0\n",
    "    elif q2 == 1:\n",
    "        x2 = 0\n",
    "    elif q2 == 2:\n",
    "        y2 = l\n",
    "    elif q2 == 3:\n",
    "        x2 = l\n",
    "        \n",
    "    p1 = (x1, y1)\n",
    "    p2 = (x2, y2)\n",
    "    \n",
    "#     print(\"P1:\", p1)\n",
    "#     print(\"P2:\", p2)\n",
    "    \n",
    "    return[p1, p2]\n",
    "    \n",
    "            \n",
    "\n",
    "    "
   ]
  },
  {
   "cell_type": "code",
   "execution_count": 112,
   "metadata": {},
   "outputs": [],
   "source": [
    "# determine if an electrode is touching a wire\n",
    "# takes in tuple of coordinates of electrode\n",
    "# takes in list of tuples of endpoints of wire\n",
    "def electrode_touching_wire(electrode_points, wire_points, r_e_):\n",
    "    # the formula for min distance between wire and electrode is given in sec 2.1\n",
    "    \n",
    "    x_e, y_e = electrode_points\n",
    "    x1, y1 = wire_points[0]\n",
    "    x2, y2 = wire_points[1]\n",
    "    \n",
    "    numerator = abs(x_e * (y2 - y1) - y_e * (x2 - x1) + x2 * y1 - y2 * x1)\n",
    "    denominator = sqrt((x2 - x1)**2 + (y2 - y1)**2)\n",
    "    \n",
    "    distance = numerator / denominator\n",
    "    \n",
    "    # wire is touching if min distance is less than electrode radius\n",
    "    return distance <= r_e"
   ]
  },
  {
   "cell_type": "code",
   "execution_count": 110,
   "metadata": {},
   "outputs": [],
   "source": [
    "# main function to run simulation\n",
    "def main(a=1, r_e=0.4, n_e=9, lambda_constant=30):\n",
    "    \n",
    "    # height/width of grid\n",
    "    l = a * (1 + sqrt(n_e)) \n",
    "    \n",
    "    # number of wires\n",
    "    n_w = int(lambda_constant * sqrt(n_e))\n",
    "    \n",
    "    # generate wire coordinates\n",
    "    wires = []\n",
    "    for i in range(n_w):\n",
    "        wires.append(generate_wire(l))\n",
    "        \n",
    "    # generate electrode coordinates\n",
    "    # they are evenly spaced out\n",
    "    electrodes = []\n",
    "    for i in range(n_e):\n",
    "        x = i * (l / )\n",
    "        electrodes.append()"
   ]
  },
  {
   "cell_type": "code",
   "execution_count": 111,
   "metadata": {},
   "outputs": [
    {
     "name": "stdout",
     "output_type": "stream",
     "text": [
      "90\n",
      "90\n"
     ]
    }
   ],
   "source": [
    "# cell for testing\n",
    "main()"
   ]
  },
  {
   "cell_type": "code",
   "execution_count": null,
   "metadata": {},
   "outputs": [],
   "source": []
  }
 ],
 "metadata": {
  "kernelspec": {
   "display_name": "Python 3",
   "language": "python",
   "name": "python3"
  },
  "language_info": {
   "codemirror_mode": {
    "name": "ipython",
    "version": 3
   },
   "file_extension": ".py",
   "mimetype": "text/x-python",
   "name": "python",
   "nbconvert_exporter": "python",
   "pygments_lexer": "ipython3",
   "version": "3.6.5"
  }
 },
 "nbformat": 4,
 "nbformat_minor": 2
}
