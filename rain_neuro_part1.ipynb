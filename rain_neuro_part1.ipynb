{
 "cells": [
  {
   "cell_type": "code",
   "execution_count": 15,
   "metadata": {},
   "outputs": [],
   "source": [
    "import torch\n",
    "import argparse\n",
    "import torch.nn as nn\n",
    "import torch.nn.functional as F\n",
    "import torch.optim as optim\n",
    "from torchvision import datasets, transforms"
   ]
  },
  {
   "cell_type": "code",
   "execution_count": 16,
   "metadata": {},
   "outputs": [],
   "source": [
    "class Net(nn.Module):\n",
    "    \n",
    "    input_size = 784\n",
    "    num_classes = 10\n",
    "    \n",
    "    def __init__(self):\n",
    "        super(Net, self).__init__()\n",
    "#         self.conv1 = nn.Conv2d(1, 10, kernel_size=5)\n",
    "#         self.conv2 = nn.Conv2d(10, 20, kernel_size=5)\n",
    "#         self.conv2_drop = nn.Dropout2d()\n",
    "#         self.fc1 = nn.Linear(320, 50)\n",
    "#         self.fc2 = nn.Linear(50, 10)\n",
    "        self.layer_one = nn.Linear(784, 10)\n",
    "\n",
    "\n",
    "        \n",
    "    def forward(self, x):\n",
    "#         x = F.relu(F.max_pool2d(self.conv1(x), 2))\n",
    "#         x = F.relu(F.max_pool2d(self.conv2_drop(self.conv2(x)), 2))\n",
    "        x = x.view(-1, 784)\n",
    "        x = self.layer_one(x)\n",
    "#         x = F.relu(self.fc1(x))\n",
    "# #         x = F.dropout(x, training=self.training)\n",
    "#         x = self.fc2(x)\n",
    "        return F.log_softmax(x, dim=1)"
   ]
  },
  {
   "cell_type": "code",
   "execution_count": 17,
   "metadata": {},
   "outputs": [],
   "source": [
    "def train(model, train_loader, optimizer, epoch):\n",
    "    model.train() # training mode\n",
    "    for batch_idx, (data, target) in enumerate(train_loader):\n",
    "        optimizer.zero_grad()\n",
    "        output = model(data)\n",
    "        loss = F.nll_loss(output, target)\n",
    "        loss.backward()\n",
    "        optimizer.step()\n",
    "        if batch_idx % 10 == 0:\n",
    "            print('Train Epoch: {} [{}/{} ({:.0f}%)]\\tLoss: {:.6f}'.format(\n",
    "                epoch, batch_idx * len(data), len(train_loader.dataset),\n",
    "                100. * batch_idx / len(train_loader), loss.item()))"
   ]
  },
  {
   "cell_type": "code",
   "execution_count": 18,
   "metadata": {},
   "outputs": [],
   "source": [
    "def test(model, test_loader):\n",
    "    model.eval()\n",
    "    test_loss = 0\n",
    "    correct = 0\n",
    "    with torch.no_grad():\n",
    "        for data, target in test_loader:\n",
    "            output = model(data)\n",
    "            criterion = nn.CrossEntropyLoss()\n",
    "            test_loss += criterion(output, target).item() # sum up batch loss\n",
    "            pred = output.max(1, keepdim=True)[1] # get the index of the max log-probability\n",
    "            correct += pred.eq(target.view_as(pred)).sum().item()\n",
    "\n",
    "    test_loss /= len(test_loader.dataset)\n",
    "    print('\\nTest set: Average loss: {:.4f}, Accuracy: {}/{} ({:.0f}%)\\n'.format(\n",
    "        test_loss, correct, len(test_loader.dataset),\n",
    "        100. * correct / len(test_loader.dataset)))\n"
   ]
  },
  {
   "cell_type": "code",
   "execution_count": 19,
   "metadata": {},
   "outputs": [],
   "source": [
    "def main():\n",
    "    train_loader = torch.utils.data.DataLoader(\n",
    "        datasets.MNIST('../data', train=True, download=True,\n",
    "                       transform=transforms.Compose([\n",
    "                           transforms.ToTensor(),\n",
    "                           transforms.Normalize((0.1307,), (0.3081,))\n",
    "                       ])),\n",
    "        batch_size=2450, shuffle=True)\n",
    "    test_loader = torch.utils.data.DataLoader(\n",
    "        datasets.MNIST('../data', train=False, transform=transforms.Compose([\n",
    "                           transforms.ToTensor(),\n",
    "                           transforms.Normalize((0.1307,), (0.3081,))\n",
    "                       ])),\n",
    "        batch_size=2450, shuffle=True)\n",
    "\n",
    "\n",
    "    model = Net()\n",
    "    optimizer = optim.SGD(model.parameters(), lr=0.01, momentum=0.5)\n",
    "\n",
    "    for epoch in range(1, 10 + 1):\n",
    "        train(model, train_loader, optimizer, epoch)\n",
    "        test(model, test_loader)\n"
   ]
  },
  {
   "cell_type": "code",
   "execution_count": 20,
   "metadata": {},
   "outputs": [
    {
     "name": "stdout",
     "output_type": "stream",
     "text": [
      "Train Epoch: 1 [0/60000 (0%)]\tLoss: 2.604958\n",
      "Train Epoch: 1 [24500/60000 (40%)]\tLoss: 1.257909\n",
      "Train Epoch: 1 [49000/60000 (80%)]\tLoss: 0.860525\n",
      "\n",
      "Test set: Average loss: 0.0004, Accuracy: 8236/10000 (82%)\n",
      "\n",
      "Train Epoch: 2 [0/60000 (0%)]\tLoss: 0.791684\n",
      "Train Epoch: 2 [24500/60000 (40%)]\tLoss: 0.681057\n",
      "Train Epoch: 2 [49000/60000 (80%)]\tLoss: 0.623637\n",
      "\n",
      "Test set: Average loss: 0.0003, Accuracy: 8627/10000 (86%)\n",
      "\n",
      "Train Epoch: 3 [0/60000 (0%)]\tLoss: 0.618051\n",
      "Train Epoch: 3 [24500/60000 (40%)]\tLoss: 0.548574\n",
      "Train Epoch: 3 [49000/60000 (80%)]\tLoss: 0.532563\n",
      "\n",
      "Test set: Average loss: 0.0002, Accuracy: 8771/10000 (88%)\n",
      "\n",
      "Train Epoch: 4 [0/60000 (0%)]\tLoss: 0.513839\n",
      "Train Epoch: 4 [24500/60000 (40%)]\tLoss: 0.489923\n",
      "Train Epoch: 4 [49000/60000 (80%)]\tLoss: 0.461202\n",
      "\n",
      "Test set: Average loss: 0.0002, Accuracy: 8832/10000 (88%)\n",
      "\n",
      "Train Epoch: 5 [0/60000 (0%)]\tLoss: 0.488269\n",
      "Train Epoch: 5 [24500/60000 (40%)]\tLoss: 0.466134\n",
      "Train Epoch: 5 [49000/60000 (80%)]\tLoss: 0.464381\n",
      "\n",
      "Test set: Average loss: 0.0002, Accuracy: 8878/10000 (89%)\n",
      "\n",
      "Train Epoch: 6 [0/60000 (0%)]\tLoss: 0.462256\n",
      "Train Epoch: 6 [24500/60000 (40%)]\tLoss: 0.445335\n",
      "Train Epoch: 6 [49000/60000 (80%)]\tLoss: 0.442449\n",
      "\n",
      "Test set: Average loss: 0.0002, Accuracy: 8923/10000 (89%)\n",
      "\n",
      "Train Epoch: 7 [0/60000 (0%)]\tLoss: 0.437408\n",
      "Train Epoch: 7 [24500/60000 (40%)]\tLoss: 0.424390\n",
      "Train Epoch: 7 [49000/60000 (80%)]\tLoss: 0.441800\n",
      "\n",
      "Test set: Average loss: 0.0002, Accuracy: 8949/10000 (89%)\n",
      "\n",
      "Train Epoch: 8 [0/60000 (0%)]\tLoss: 0.403964\n",
      "Train Epoch: 8 [24500/60000 (40%)]\tLoss: 0.390975\n",
      "Train Epoch: 8 [49000/60000 (80%)]\tLoss: 0.399226\n",
      "\n",
      "Test set: Average loss: 0.0002, Accuracy: 8972/10000 (90%)\n",
      "\n",
      "Train Epoch: 9 [0/60000 (0%)]\tLoss: 0.414139\n",
      "Train Epoch: 9 [24500/60000 (40%)]\tLoss: 0.420835\n",
      "Train Epoch: 9 [49000/60000 (80%)]\tLoss: 0.378830\n",
      "\n",
      "Test set: Average loss: 0.0002, Accuracy: 8996/10000 (90%)\n",
      "\n",
      "Train Epoch: 10 [0/60000 (0%)]\tLoss: 0.386532\n",
      "Train Epoch: 10 [24500/60000 (40%)]\tLoss: 0.392025\n",
      "Train Epoch: 10 [49000/60000 (80%)]\tLoss: 0.416669\n",
      "\n",
      "Test set: Average loss: 0.0002, Accuracy: 9009/10000 (90%)\n",
      "\n"
     ]
    }
   ],
   "source": [
    "main()"
   ]
  },
  {
   "cell_type": "code",
   "execution_count": null,
   "metadata": {},
   "outputs": [],
   "source": []
  }
 ],
 "metadata": {
  "kernelspec": {
   "display_name": "Python 3",
   "language": "python",
   "name": "python3"
  },
  "language_info": {
   "codemirror_mode": {
    "name": "ipython",
    "version": 3
   },
   "file_extension": ".py",
   "mimetype": "text/x-python",
   "name": "python",
   "nbconvert_exporter": "python",
   "pygments_lexer": "ipython3",
   "version": "3.6.5"
  }
 },
 "nbformat": 4,
 "nbformat_minor": 2
}
