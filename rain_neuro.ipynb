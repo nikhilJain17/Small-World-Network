{
 "cells": [
  {
   "cell_type": "code",
   "execution_count": 3,
   "metadata": {},
   "outputs": [],
   "source": [
    "import torch\n",
    "import torch.nn as nn\n",
    "from torch import autograd\n",
    "from torch.utils.data import DataLoader\n",
    "import torch.functional as F\n",
    "import torchvision.datasets as datasets\n",
    "from torchvision import transforms"
   ]
  },
  {
   "cell_type": "code",
   "execution_count": 11,
   "metadata": {},
   "outputs": [
    {
     "name": "stdout",
     "output_type": "stream",
     "text": [
      "torch.Size([])\n"
     ]
    }
   ],
   "source": [
    "# import datasets\n",
    "mnist_trainset = datasets.MNIST(root='./data', train=True, download=True, transform=transforms.ToTensor())\n",
    "mnist_testset = datasets.MNIST(root='./data', train=False, download=True, transform=transforms.ToTensor())\n",
    "\n",
    "train_data, train_labels = zip(*mnist_trainset)\n",
    "\n",
    "# batch_size = 100\n",
    "\n",
    "# # split data into minibatches\n",
    "# train_loader = DataLoader(dataset=mnist_trainset, batch_size=batch_size, shuffle=True)\n",
    "# test_loader = DataLoader(dataset=mnist_testset, batch_size=batch_size, shuffle=True)"
   ]
  },
  {
   "cell_type": "code",
   "execution_count": 52,
   "metadata": {},
   "outputs": [
    {
     "name": "stdout",
     "output_type": "stream",
     "text": [
      "Shape before:  torch.Size([1, 28, 28])\n",
      "Shape after:  torch.Size([1, 784])\n"
     ]
    }
   ],
   "source": [
    "# data processing\n",
    "# flatten 28x28 imgs to 784x1 vectors\n",
    "\n",
    "flattened_train_data = []\n",
    "\n",
    "print(\"Shape before: \", train_data[0].shape)\n",
    "\n",
    "for i in range(len(train_data)):\n",
    "    flattened_train_data.append(torch.tensor(torch.reshape(train_data[i], (1, 28*28))))   \n",
    "\n",
    "print(\"Shape after: \", flattened_train_data[0].shape)"
   ]
  },
  {
   "cell_type": "code",
   "execution_count": 40,
   "metadata": {},
   "outputs": [],
   "source": [
    "# hyperparameters\n",
    "input_size = 784\n",
    "num_classes = 10\n",
    "\n",
    "# define the model\n",
    "class Net(nn.Module):\n",
    "    def __init__(self):\n",
    "        super(Net, self).__init__()\n",
    "        # 1 layer\n",
    "        self.layer_one = nn.Linear(input_size, num_classes)\n",
    "        \n",
    "    def forward(self, x):\n",
    "        x = F.softmax(x)\n",
    "        return x\n",
    "    \n",
    "    "
   ]
  },
  {
   "cell_type": "code",
   "execution_count": null,
   "metadata": {},
   "outputs": [],
   "source": [
    "def train(args, )"
   ]
  }
 ],
 "metadata": {
  "kernelspec": {
   "display_name": "Python 3",
   "language": "python",
   "name": "python3"
  },
  "language_info": {
   "codemirror_mode": {
    "name": "ipython",
    "version": 3
   },
   "file_extension": ".py",
   "mimetype": "text/x-python",
   "name": "python",
   "nbconvert_exporter": "python",
   "pygments_lexer": "ipython3",
   "version": "3.6.5"
  }
 },
 "nbformat": 4,
 "nbformat_minor": 2
}
